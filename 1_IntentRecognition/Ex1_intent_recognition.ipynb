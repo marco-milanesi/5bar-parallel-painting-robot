{
  "nbformat": 4,
  "nbformat_minor": 0,
  "metadata": {
    "colab": {
      "provenance": [],
      "collapsed_sections": [],
      "include_colab_link": true
    },
    "kernelspec": {
      "name": "python3",
      "display_name": "Python 3"
    },
    "language_info": {
      "name": "python"
    }
  },
  "cells": [
    {
      "cell_type": "markdown",
      "metadata": {
        "id": "view-in-github",
        "colab_type": "text"
      },
      "source": [
        "<a href=\"https://colab.research.google.com/github/marco-milanesi/5bar-parallel-painting-robot/blob/main/1_IntentRecognition/Ex1_intent_recognition.ipynb\" target=\"_parent\"><img src=\"https://colab.research.google.com/assets/colab-badge.svg\" alt=\"Open In Colab\"/></a>"
      ]
    },
    {
      "cell_type": "markdown",
      "source": [
        "# Intent recognition"
      ],
      "metadata": {
        "id": "IHhpb5WAndOT"
      }
    },
    {
      "cell_type": "code",
      "execution_count": 232,
      "metadata": {
        "id": "QAjoCHIUpaAP",
        "colab": {
          "base_uri": "https://localhost:8080/"
        },
        "outputId": "964e09d1-099b-4b09-8bf6-9a0910a8d927"
      },
      "outputs": [
        {
          "output_type": "stream",
          "name": "stdout",
          "text": [
            "Drive already mounted at /content/gdrive; to attempt to forcibly remount, call drive.mount(\"/content/gdrive\", force_remount=True).\n"
          ]
        }
      ],
      "source": [
        "from google.colab import drive\n",
        "drive.mount('/content/gdrive') # Run it if the drive hasn't already mounted"
      ]
    },
    {
      "cell_type": "markdown",
      "source": [
        "## Import packages"
      ],
      "metadata": {
        "id": "e6DNg384nssw"
      }
    },
    {
      "cell_type": "code",
      "source": [
        "import os\n",
        "import pandas as pd\n",
        "import numpy as np\n",
        "import statistics \n",
        "import glob\n",
        "from numpy import mean, absolute\n",
        "\n",
        "path = \"/content/gdrive/MyDrive/Colab Notebooks/Social Robot/1_IntentRecognition/Kismet_data_intent/\"\n",
        "os.chdir(path)\n",
        "extension_energy='en' #file extension of Energy features\n",
        "energy_files=[i for i in glob.glob(f'*.{extension_energy}')]\n",
        "\n",
        "extension_frequency='f0' #file extension of Frequency features\n",
        "frequency_files=[i for i in glob.glob(f'*.{extension_frequency}')]\n",
        "\n",
        "file_list=[]\n",
        "# Definition of the five classes of affective communicative intents strings\n",
        "substring_approval=\"ap\" \n",
        "substring_prohibition=\"pw\"\n",
        "substring_attention=\"at\"\n",
        "# list of the class (labels)\n",
        "classification=[] \n",
        "  "
      ],
      "metadata": {
        "id": "DK8br2ltzrv1"
      },
      "execution_count": 233,
      "outputs": []
    },
    {
      "cell_type": "markdown",
      "source": [
        "## Load Data for frequency"
      ],
      "metadata": {
        "id": "JX1fM2kMatgY"
      }
    },
    {
      "cell_type": "code",
      "source": [
        "mean_frequency=[]\n",
        "maximum_frequency=[]\n",
        "range_frequency=[]\n",
        "variance_frequency = []\n",
        "median_frequency = []\n",
        "Firstquartile_frequency = []\n",
        "Thirdquartile_frequency = []\n",
        "AbsoluteMeanDeviation_frequency = []\n",
        "file_index_list = []\n",
        "index_list = []\n",
        "index = -1\n",
        "\n",
        "for i in frequency_files:\n",
        "  if substring_approval in i:\n",
        "    classification.append(\"approval\")\n",
        "  elif substring_prohibition in i:\n",
        "    classification.append(\"prohibition\")\n",
        "  \n",
        "  if substring_approval in i or substring_prohibition in i:\n",
        "    with open(i) as f:\n",
        "      for line in f:\n",
        "        index = index + 1\n",
        "        num=float(line.split(\" \")[1])\n",
        "        if num != 0:\n",
        "          file_list.append(num)\n",
        "          file_index_list.append(index)\n",
        "    \n",
        "    index_list.append(file_index_list)\n",
        "    file_index_list = []\n",
        "    index = -1\n",
        "    mean_frequency.append(np.mean(file_list))\n",
        "    maximum_frequency.append(max(file_list))\n",
        "    range_frequency.append(max(file_list)-min(file_list))\n",
        "    variance_frequency.append(statistics.variance(file_list))\n",
        "    median_frequency.append(statistics.median(file_list))\n",
        "    Firstquartile_frequency.append(np.quantile(file_list,q=0.25))\n",
        "    Thirdquartile_frequency.append(np.quantile(file_list,q=0.75))\n",
        "    # Absolute mean deviation\n",
        "    AbsoluteMeanDeviation_frequency.append(mean(absolute(file_list - mean(file_list))))\n",
        "    file_list=[]"
      ],
      "metadata": {
        "id": "myEunpdEas_P"
      },
      "execution_count": 234,
      "outputs": []
    },
    {
      "cell_type": "markdown",
      "source": [
        "## Load Data for energy\n"
      ],
      "metadata": {
        "id": "guJOKOB6YPWe"
      }
    },
    {
      "cell_type": "code",
      "source": [
        "from numpy.core.fromnumeric import size\n",
        "mean_energy=[]\n",
        "maximum_energy=[]\n",
        "range_energy=[]\n",
        "variance_energy = []\n",
        "median_energy = []\n",
        "Firstquartile_energy = []\n",
        "Thirdquartile_energy = []\n",
        "AbsoluteMeanDeviation_energy = []\n",
        "file_index = -1\n",
        "index = -1\n",
        "\n",
        "for i in energy_files:\n",
        "  if substring_approval in i or substring_prohibition in i:\n",
        "    index = index + 1\n",
        "    with open(i) as f:\n",
        "      for line in f:\n",
        "        file_index = file_index + 1\n",
        "        if file_index in index_list[index]:\n",
        "          num=float(line.split(\" \")[1])\n",
        "          file_list.append(num)\n",
        "\n",
        "    file_index = -1\n",
        "    if file_list != []:\n",
        "      mean_energy.append(np.mean(file_list))\n",
        "      maximum_energy.append(max(file_list))\n",
        "      range_energy.append(max(file_list)-min(file_list))\n",
        "      if size(file_list) > 1:\n",
        "        variance_energy.append(statistics.variance(file_list))\n",
        "      else:\n",
        "        variance_energy.append(0)\n",
        "      median_energy.append(statistics.median(file_list))\n",
        "      Firstquartile_energy.append(np.quantile(file_list,q=0.25))\n",
        "      Thirdquartile_energy.append(np.quantile(file_list,q=0.75))\n",
        "      AbsoluteMeanDeviation_energy.append(mean(absolute(file_list - mean(file_list))))\n",
        "    else:\n",
        "      print(i)\n",
        "      print(index_list[index])\n",
        "\n",
        "    \n",
        "    file_list=[]"
      ],
      "metadata": {
        "id": "-dpDyC9LYToj"
      },
      "execution_count": 235,
      "outputs": []
    },
    {
      "cell_type": "markdown",
      "source": [
        "# Create the dataset"
      ],
      "metadata": {
        "id": "OuqvVSscYVZG"
      }
    },
    {
      "cell_type": "code",
      "source": [
        "df=pd.DataFrame()\n",
        "# Labels\n",
        "df=pd.DataFrame(classification,columns=['label'])\n",
        "# Energy Features\n",
        "df.insert(1,\"mean energy\",mean_energy,True)\n",
        "df.insert(2,\"maximum energy\",maximum_energy,True)\n",
        "df.insert(3,\"range energy\",range_energy,True)\n",
        "df.insert(4,\"variance energy\",variance_energy,True)\n",
        "df.insert(5,\"median energy\",median_energy,True)\n",
        "df.insert(6,\"First Quartile\",Firstquartile_energy,True)\n",
        "df.insert(7,\"Third Quartile\",Thirdquartile_energy,True)\n",
        "df.insert(8,\"Absolute Mean Deviation\",AbsoluteMeanDeviation_energy,True)\n",
        "# Frequency Features\n",
        "df.insert(9,\"mean frequency\",mean_frequency,True)\n",
        "df.insert(10,\"maximum frequency\",maximum_frequency,True)\n",
        "df.insert(11,\"range frequency\",range_frequency,True)\n",
        "df.insert(12,\"variance frequency\",variance_frequency,True)\n",
        "df.insert(13,\"median frequency\",median_frequency,True)\n",
        "df.insert(14,\"First Quartile\",Firstquartile_frequency,True)\n",
        "df.insert(15,\"Third Quartile\",Thirdquartile_frequency,True)\n",
        "df.insert(16,\"Absolute Mean Deviation\",AbsoluteMeanDeviation_frequency,True)\n",
        "# Print the dataset created\n",
        "df"
      ],
      "metadata": {
        "id": "CrFDauQwYYWt",
        "colab": {
          "base_uri": "https://localhost:8080/",
          "height": 522
        },
        "outputId": "36bb7c85-12bf-4716-94ee-168e78794617"
      },
      "execution_count": 236,
      "outputs": [
        {
          "output_type": "execute_result",
          "data": {
            "text/plain": [
              "           label  mean energy  maximum energy  range energy  variance energy  \\\n",
              "0    prohibition    49.400000            63.0          23.0        70.416667   \n",
              "1       approval    54.033333            66.0          66.0       258.929885   \n",
              "2       approval    54.055556            69.0          29.0        90.921384   \n",
              "3    prohibition    52.052632            72.0          72.0       207.726885   \n",
              "4       approval    52.969697            64.0          23.0        90.842803   \n",
              "..           ...          ...             ...           ...              ...   \n",
              "363     approval    60.603774            76.0          37.0       139.705370   \n",
              "364     approval    53.000000            74.0          74.0       683.636364   \n",
              "365  prohibition    50.333333            74.0          74.0       236.538462   \n",
              "366     approval    50.000000            69.0          69.0       312.074074   \n",
              "367  prohibition    54.550000            71.0          29.0       110.050000   \n",
              "\n",
              "     median energy  First Quartile  Third Quartile  Absolute Mean Deviation  \\\n",
              "0             45.0           42.00           59.00                 7.488000   \n",
              "1             58.0           51.75           63.75                 9.820000   \n",
              "2             56.5           44.00           61.75                 8.606996   \n",
              "3             51.5           42.00           65.00                11.789474   \n",
              "4             54.0           42.00           63.00                 8.881543   \n",
              "..             ...             ...             ...                      ...   \n",
              "363           65.0           48.00           71.00                10.373087   \n",
              "364           65.0           49.75           67.25                19.500000   \n",
              "365           46.0           43.50           59.50                11.111111   \n",
              "366           50.5           41.75           64.25                13.071429   \n",
              "367           52.0           45.00           64.00                 9.260000   \n",
              "\n",
              "     mean frequency  maximum frequency  range frequency  variance frequency  \\\n",
              "0        237.000000              354.0            185.0         1649.750000   \n",
              "1        280.593750              503.0            319.0        12790.378024   \n",
              "2        291.314815              443.0            268.0         4907.465059   \n",
              "3        195.000000              253.0             90.0          373.288889   \n",
              "4        360.515152              508.0            400.0        10109.507576   \n",
              "..              ...                ...              ...                 ...   \n",
              "363      220.509434              321.0            160.0         2447.370102   \n",
              "364      255.200000              421.0            289.0         3309.348148   \n",
              "365      210.022727              501.0            402.0         6610.999471   \n",
              "366      305.179487              449.0            354.0        12049.677463   \n",
              "367      188.800000              238.0             79.0          722.694737   \n",
              "\n",
              "     median frequency  First Quartile  Third Quartile  Absolute Mean Deviation  \n",
              "0               223.0          217.00           249.0                29.200000  \n",
              "1               223.0          190.00           385.0                99.179688  \n",
              "2               278.5          238.50           333.5                57.275720  \n",
              "3               189.5          181.50           204.0                14.652174  \n",
              "4               355.0          298.00           441.0                82.409550  \n",
              "..                ...             ...             ...                      ...  \n",
              "363             208.0          177.00           266.0                42.614454  \n",
              "364             258.0          237.00           263.0                33.440000  \n",
              "365             189.0          174.00           209.5                43.079545  \n",
              "366             318.0          204.50           416.0               100.174885  \n",
              "367             178.5          168.25           220.5                23.120000  \n",
              "\n",
              "[368 rows x 17 columns]"
            ],
            "text/html": [
              "\n",
              "  <div id=\"df-e66c4c31-1e33-4abf-890b-38be9ddfb9c7\">\n",
              "    <div class=\"colab-df-container\">\n",
              "      <div>\n",
              "<style scoped>\n",
              "    .dataframe tbody tr th:only-of-type {\n",
              "        vertical-align: middle;\n",
              "    }\n",
              "\n",
              "    .dataframe tbody tr th {\n",
              "        vertical-align: top;\n",
              "    }\n",
              "\n",
              "    .dataframe thead th {\n",
              "        text-align: right;\n",
              "    }\n",
              "</style>\n",
              "<table border=\"1\" class=\"dataframe\">\n",
              "  <thead>\n",
              "    <tr style=\"text-align: right;\">\n",
              "      <th></th>\n",
              "      <th>label</th>\n",
              "      <th>mean energy</th>\n",
              "      <th>maximum energy</th>\n",
              "      <th>range energy</th>\n",
              "      <th>variance energy</th>\n",
              "      <th>median energy</th>\n",
              "      <th>First Quartile</th>\n",
              "      <th>Third Quartile</th>\n",
              "      <th>Absolute Mean Deviation</th>\n",
              "      <th>mean frequency</th>\n",
              "      <th>maximum frequency</th>\n",
              "      <th>range frequency</th>\n",
              "      <th>variance frequency</th>\n",
              "      <th>median frequency</th>\n",
              "      <th>First Quartile</th>\n",
              "      <th>Third Quartile</th>\n",
              "      <th>Absolute Mean Deviation</th>\n",
              "    </tr>\n",
              "  </thead>\n",
              "  <tbody>\n",
              "    <tr>\n",
              "      <th>0</th>\n",
              "      <td>prohibition</td>\n",
              "      <td>49.400000</td>\n",
              "      <td>63.0</td>\n",
              "      <td>23.0</td>\n",
              "      <td>70.416667</td>\n",
              "      <td>45.0</td>\n",
              "      <td>42.00</td>\n",
              "      <td>59.00</td>\n",
              "      <td>7.488000</td>\n",
              "      <td>237.000000</td>\n",
              "      <td>354.0</td>\n",
              "      <td>185.0</td>\n",
              "      <td>1649.750000</td>\n",
              "      <td>223.0</td>\n",
              "      <td>217.00</td>\n",
              "      <td>249.0</td>\n",
              "      <td>29.200000</td>\n",
              "    </tr>\n",
              "    <tr>\n",
              "      <th>1</th>\n",
              "      <td>approval</td>\n",
              "      <td>54.033333</td>\n",
              "      <td>66.0</td>\n",
              "      <td>66.0</td>\n",
              "      <td>258.929885</td>\n",
              "      <td>58.0</td>\n",
              "      <td>51.75</td>\n",
              "      <td>63.75</td>\n",
              "      <td>9.820000</td>\n",
              "      <td>280.593750</td>\n",
              "      <td>503.0</td>\n",
              "      <td>319.0</td>\n",
              "      <td>12790.378024</td>\n",
              "      <td>223.0</td>\n",
              "      <td>190.00</td>\n",
              "      <td>385.0</td>\n",
              "      <td>99.179688</td>\n",
              "    </tr>\n",
              "    <tr>\n",
              "      <th>2</th>\n",
              "      <td>approval</td>\n",
              "      <td>54.055556</td>\n",
              "      <td>69.0</td>\n",
              "      <td>29.0</td>\n",
              "      <td>90.921384</td>\n",
              "      <td>56.5</td>\n",
              "      <td>44.00</td>\n",
              "      <td>61.75</td>\n",
              "      <td>8.606996</td>\n",
              "      <td>291.314815</td>\n",
              "      <td>443.0</td>\n",
              "      <td>268.0</td>\n",
              "      <td>4907.465059</td>\n",
              "      <td>278.5</td>\n",
              "      <td>238.50</td>\n",
              "      <td>333.5</td>\n",
              "      <td>57.275720</td>\n",
              "    </tr>\n",
              "    <tr>\n",
              "      <th>3</th>\n",
              "      <td>prohibition</td>\n",
              "      <td>52.052632</td>\n",
              "      <td>72.0</td>\n",
              "      <td>72.0</td>\n",
              "      <td>207.726885</td>\n",
              "      <td>51.5</td>\n",
              "      <td>42.00</td>\n",
              "      <td>65.00</td>\n",
              "      <td>11.789474</td>\n",
              "      <td>195.000000</td>\n",
              "      <td>253.0</td>\n",
              "      <td>90.0</td>\n",
              "      <td>373.288889</td>\n",
              "      <td>189.5</td>\n",
              "      <td>181.50</td>\n",
              "      <td>204.0</td>\n",
              "      <td>14.652174</td>\n",
              "    </tr>\n",
              "    <tr>\n",
              "      <th>4</th>\n",
              "      <td>approval</td>\n",
              "      <td>52.969697</td>\n",
              "      <td>64.0</td>\n",
              "      <td>23.0</td>\n",
              "      <td>90.842803</td>\n",
              "      <td>54.0</td>\n",
              "      <td>42.00</td>\n",
              "      <td>63.00</td>\n",
              "      <td>8.881543</td>\n",
              "      <td>360.515152</td>\n",
              "      <td>508.0</td>\n",
              "      <td>400.0</td>\n",
              "      <td>10109.507576</td>\n",
              "      <td>355.0</td>\n",
              "      <td>298.00</td>\n",
              "      <td>441.0</td>\n",
              "      <td>82.409550</td>\n",
              "    </tr>\n",
              "    <tr>\n",
              "      <th>...</th>\n",
              "      <td>...</td>\n",
              "      <td>...</td>\n",
              "      <td>...</td>\n",
              "      <td>...</td>\n",
              "      <td>...</td>\n",
              "      <td>...</td>\n",
              "      <td>...</td>\n",
              "      <td>...</td>\n",
              "      <td>...</td>\n",
              "      <td>...</td>\n",
              "      <td>...</td>\n",
              "      <td>...</td>\n",
              "      <td>...</td>\n",
              "      <td>...</td>\n",
              "      <td>...</td>\n",
              "      <td>...</td>\n",
              "      <td>...</td>\n",
              "    </tr>\n",
              "    <tr>\n",
              "      <th>363</th>\n",
              "      <td>approval</td>\n",
              "      <td>60.603774</td>\n",
              "      <td>76.0</td>\n",
              "      <td>37.0</td>\n",
              "      <td>139.705370</td>\n",
              "      <td>65.0</td>\n",
              "      <td>48.00</td>\n",
              "      <td>71.00</td>\n",
              "      <td>10.373087</td>\n",
              "      <td>220.509434</td>\n",
              "      <td>321.0</td>\n",
              "      <td>160.0</td>\n",
              "      <td>2447.370102</td>\n",
              "      <td>208.0</td>\n",
              "      <td>177.00</td>\n",
              "      <td>266.0</td>\n",
              "      <td>42.614454</td>\n",
              "    </tr>\n",
              "    <tr>\n",
              "      <th>364</th>\n",
              "      <td>approval</td>\n",
              "      <td>53.000000</td>\n",
              "      <td>74.0</td>\n",
              "      <td>74.0</td>\n",
              "      <td>683.636364</td>\n",
              "      <td>65.0</td>\n",
              "      <td>49.75</td>\n",
              "      <td>67.25</td>\n",
              "      <td>19.500000</td>\n",
              "      <td>255.200000</td>\n",
              "      <td>421.0</td>\n",
              "      <td>289.0</td>\n",
              "      <td>3309.348148</td>\n",
              "      <td>258.0</td>\n",
              "      <td>237.00</td>\n",
              "      <td>263.0</td>\n",
              "      <td>33.440000</td>\n",
              "    </tr>\n",
              "    <tr>\n",
              "      <th>365</th>\n",
              "      <td>prohibition</td>\n",
              "      <td>50.333333</td>\n",
              "      <td>74.0</td>\n",
              "      <td>74.0</td>\n",
              "      <td>236.538462</td>\n",
              "      <td>46.0</td>\n",
              "      <td>43.50</td>\n",
              "      <td>59.50</td>\n",
              "      <td>11.111111</td>\n",
              "      <td>210.022727</td>\n",
              "      <td>501.0</td>\n",
              "      <td>402.0</td>\n",
              "      <td>6610.999471</td>\n",
              "      <td>189.0</td>\n",
              "      <td>174.00</td>\n",
              "      <td>209.5</td>\n",
              "      <td>43.079545</td>\n",
              "    </tr>\n",
              "    <tr>\n",
              "      <th>366</th>\n",
              "      <td>approval</td>\n",
              "      <td>50.000000</td>\n",
              "      <td>69.0</td>\n",
              "      <td>69.0</td>\n",
              "      <td>312.074074</td>\n",
              "      <td>50.5</td>\n",
              "      <td>41.75</td>\n",
              "      <td>64.25</td>\n",
              "      <td>13.071429</td>\n",
              "      <td>305.179487</td>\n",
              "      <td>449.0</td>\n",
              "      <td>354.0</td>\n",
              "      <td>12049.677463</td>\n",
              "      <td>318.0</td>\n",
              "      <td>204.50</td>\n",
              "      <td>416.0</td>\n",
              "      <td>100.174885</td>\n",
              "    </tr>\n",
              "    <tr>\n",
              "      <th>367</th>\n",
              "      <td>prohibition</td>\n",
              "      <td>54.550000</td>\n",
              "      <td>71.0</td>\n",
              "      <td>29.0</td>\n",
              "      <td>110.050000</td>\n",
              "      <td>52.0</td>\n",
              "      <td>45.00</td>\n",
              "      <td>64.00</td>\n",
              "      <td>9.260000</td>\n",
              "      <td>188.800000</td>\n",
              "      <td>238.0</td>\n",
              "      <td>79.0</td>\n",
              "      <td>722.694737</td>\n",
              "      <td>178.5</td>\n",
              "      <td>168.25</td>\n",
              "      <td>220.5</td>\n",
              "      <td>23.120000</td>\n",
              "    </tr>\n",
              "  </tbody>\n",
              "</table>\n",
              "<p>368 rows × 17 columns</p>\n",
              "</div>\n",
              "      <button class=\"colab-df-convert\" onclick=\"convertToInteractive('df-e66c4c31-1e33-4abf-890b-38be9ddfb9c7')\"\n",
              "              title=\"Convert this dataframe to an interactive table.\"\n",
              "              style=\"display:none;\">\n",
              "        \n",
              "  <svg xmlns=\"http://www.w3.org/2000/svg\" height=\"24px\"viewBox=\"0 0 24 24\"\n",
              "       width=\"24px\">\n",
              "    <path d=\"M0 0h24v24H0V0z\" fill=\"none\"/>\n",
              "    <path d=\"M18.56 5.44l.94 2.06.94-2.06 2.06-.94-2.06-.94-.94-2.06-.94 2.06-2.06.94zm-11 1L8.5 8.5l.94-2.06 2.06-.94-2.06-.94L8.5 2.5l-.94 2.06-2.06.94zm10 10l.94 2.06.94-2.06 2.06-.94-2.06-.94-.94-2.06-.94 2.06-2.06.94z\"/><path d=\"M17.41 7.96l-1.37-1.37c-.4-.4-.92-.59-1.43-.59-.52 0-1.04.2-1.43.59L10.3 9.45l-7.72 7.72c-.78.78-.78 2.05 0 2.83L4 21.41c.39.39.9.59 1.41.59.51 0 1.02-.2 1.41-.59l7.78-7.78 2.81-2.81c.8-.78.8-2.07 0-2.86zM5.41 20L4 18.59l7.72-7.72 1.47 1.35L5.41 20z\"/>\n",
              "  </svg>\n",
              "      </button>\n",
              "      \n",
              "  <style>\n",
              "    .colab-df-container {\n",
              "      display:flex;\n",
              "      flex-wrap:wrap;\n",
              "      gap: 12px;\n",
              "    }\n",
              "\n",
              "    .colab-df-convert {\n",
              "      background-color: #E8F0FE;\n",
              "      border: none;\n",
              "      border-radius: 50%;\n",
              "      cursor: pointer;\n",
              "      display: none;\n",
              "      fill: #1967D2;\n",
              "      height: 32px;\n",
              "      padding: 0 0 0 0;\n",
              "      width: 32px;\n",
              "    }\n",
              "\n",
              "    .colab-df-convert:hover {\n",
              "      background-color: #E2EBFA;\n",
              "      box-shadow: 0px 1px 2px rgba(60, 64, 67, 0.3), 0px 1px 3px 1px rgba(60, 64, 67, 0.15);\n",
              "      fill: #174EA6;\n",
              "    }\n",
              "\n",
              "    [theme=dark] .colab-df-convert {\n",
              "      background-color: #3B4455;\n",
              "      fill: #D2E3FC;\n",
              "    }\n",
              "\n",
              "    [theme=dark] .colab-df-convert:hover {\n",
              "      background-color: #434B5C;\n",
              "      box-shadow: 0px 1px 3px 1px rgba(0, 0, 0, 0.15);\n",
              "      filter: drop-shadow(0px 1px 2px rgba(0, 0, 0, 0.3));\n",
              "      fill: #FFFFFF;\n",
              "    }\n",
              "  </style>\n",
              "\n",
              "      <script>\n",
              "        const buttonEl =\n",
              "          document.querySelector('#df-e66c4c31-1e33-4abf-890b-38be9ddfb9c7 button.colab-df-convert');\n",
              "        buttonEl.style.display =\n",
              "          google.colab.kernel.accessAllowed ? 'block' : 'none';\n",
              "\n",
              "        async function convertToInteractive(key) {\n",
              "          const element = document.querySelector('#df-e66c4c31-1e33-4abf-890b-38be9ddfb9c7');\n",
              "          const dataTable =\n",
              "            await google.colab.kernel.invokeFunction('convertToInteractive',\n",
              "                                                     [key], {});\n",
              "          if (!dataTable) return;\n",
              "\n",
              "          const docLinkHtml = 'Like what you see? Visit the ' +\n",
              "            '<a target=\"_blank\" href=https://colab.research.google.com/notebooks/data_table.ipynb>data table notebook</a>'\n",
              "            + ' to learn more about interactive tables.';\n",
              "          element.innerHTML = '';\n",
              "          dataTable['output_type'] = 'display_data';\n",
              "          await google.colab.output.renderOutput(dataTable, element);\n",
              "          const docLink = document.createElement('div');\n",
              "          docLink.innerHTML = docLinkHtml;\n",
              "          element.appendChild(docLink);\n",
              "        }\n",
              "      </script>\n",
              "    </div>\n",
              "  </div>\n",
              "  "
            ]
          },
          "metadata": {},
          "execution_count": 236
        }
      ]
    },
    {
      "cell_type": "code",
      "source": [],
      "metadata": {
        "id": "U9l_rmWSJDZa"
      },
      "execution_count": null,
      "outputs": []
    },
    {
      "cell_type": "code",
      "source": [
        "labels = df.values[:,0]\n",
        "samples = df.values[:,1:]"
      ],
      "metadata": {
        "id": "uL-Ao31UTWH7"
      },
      "execution_count": 237,
      "outputs": []
    },
    {
      "cell_type": "markdown",
      "source": [
        "## Train test and split"
      ],
      "metadata": {
        "id": "hvA5z-j5Tf8U"
      }
    },
    {
      "cell_type": "code",
      "source": [
        "import sklearn\n",
        "from sklearn.neighbors import KNeighborsClassifier\n",
        "\n",
        "from collections import Counter\n",
        "print(\"Labels distribution:\",Counter(labels))\n",
        "\n",
        "# train-test split\n",
        "trainSamples, testSamples, trainLabels, testLabels = sklearn.model_selection.train_test_split(samples, labels, random_state=60,stratify=labels,train_size=0.5)\n",
        "print(\"Train labels distribution:\", Counter(trainLabels))\n",
        "print(\"Test labels distribution:\",Counter(testLabels))"
      ],
      "metadata": {
        "id": "DsC7Wn9JTin2",
        "colab": {
          "base_uri": "https://localhost:8080/"
        },
        "outputId": "db0824b4-2339-4478-858c-e68c7daad69f"
      },
      "execution_count": 238,
      "outputs": [
        {
          "output_type": "stream",
          "name": "stdout",
          "text": [
            "Labels distribution: Counter({'prohibition': 186, 'approval': 182})\n",
            "Train labels distribution: Counter({'prohibition': 93, 'approval': 91})\n",
            "Test labels distribution: Counter({'prohibition': 93, 'approval': 91})\n"
          ]
        }
      ]
    },
    {
      "cell_type": "markdown",
      "source": [
        "# KN Neighbors"
      ],
      "metadata": {
        "id": "7YklWGBrT8EV"
      }
    },
    {
      "cell_type": "code",
      "source": [
        "model_kn = KNeighborsClassifier() # Create the model\n",
        "model_kn.fit(trainSamples, trainLabels) #train the model\n",
        "from sklearn.metrics import  accuracy_score,cohen_kappa_score\n",
        "modelResults_kn = model_kn.predict(testSamples)"
      ],
      "metadata": {
        "id": "SzbvTjK3T-HU"
      },
      "execution_count": 239,
      "outputs": []
    },
    {
      "cell_type": "markdown",
      "source": [
        "## SVM"
      ],
      "metadata": {
        "id": "PuJn5vbzxCKn"
      }
    },
    {
      "cell_type": "code",
      "source": [
        "from sklearn import svm\n",
        "model_svm = svm.SVC()\n",
        "model_svm.fit(trainSamples, trainLabels)\n",
        "modelResults_svm = model_svm.predict(testSamples)"
      ],
      "metadata": {
        "id": "8a1erwDWWV6m"
      },
      "execution_count": 240,
      "outputs": []
    },
    {
      "cell_type": "markdown",
      "source": [
        "# Decision Tree Classifier"
      ],
      "metadata": {
        "id": "_mvytdgPxGiW"
      }
    },
    {
      "cell_type": "code",
      "source": [
        "from sklearn.tree import DecisionTreeClassifier # Import Decision Tree Classifier\n",
        "clf = DecisionTreeClassifier()\n",
        "clf = clf.fit(trainSamples, trainLabels)\n",
        "modelResults_clf = clf.predict(testSamples)"
      ],
      "metadata": {
        "id": "NsxwU-XbxL_K"
      },
      "execution_count": 241,
      "outputs": []
    },
    {
      "cell_type": "markdown",
      "source": [
        "## Gradient Boosting Classifier"
      ],
      "metadata": {
        "id": "FIKoyalIx0C9"
      }
    },
    {
      "cell_type": "code",
      "source": [
        "from sklearn.ensemble import GradientBoostingClassifier\n",
        "gb_clf2 = GradientBoostingClassifier(n_estimators=20, learning_rate=0.5, max_features=2, max_depth=2, random_state=0)\n",
        "gb_clf2.fit(trainSamples, trainLabels)\n",
        "modelResults_gbc = gb_clf2.predict(testSamples)"
      ],
      "metadata": {
        "id": "PsnLc7w2x5lr"
      },
      "execution_count": 242,
      "outputs": []
    },
    {
      "cell_type": "markdown",
      "source": [
        "## Models Evaluation"
      ],
      "metadata": {
        "id": "JRCnIAi1xo7I"
      }
    },
    {
      "cell_type": "code",
      "source": [
        "import matplotlib.pyplot as plt\n",
        "   \n",
        "data = {'Accuracy': [accuracy_score(testLabels, modelResults_kn) ,accuracy_score(testLabels, modelResults_svm) ,accuracy_score(testLabels, modelResults_clf) ,accuracy_score(testLabels, modelResults_gbc) ],\n",
        "        'Cohen s kappa': [cohen_kappa_score(testLabels, modelResults_kn),cohen_kappa_score(testLabels, modelResults_svm),cohen_kappa_score(testLabels, modelResults_clf),cohen_kappa_score(testLabels, modelResults_gbc)]\n",
        "       }\n",
        "df = pd.DataFrame(data,columns=['Accuracy','Cohen s kappa'], index = ['KN Neighbors','SVM','Decision Tree Classifier','Gradient Boosting Classifier'])\n",
        "df.plot.barh()\n",
        "plt.title('Algorithm Evaluation')\n",
        "plt.ylabel('Algorithm')\n",
        "plt.show()"
      ],
      "metadata": {
        "id": "73fOHqIAxvAy",
        "colab": {
          "base_uri": "https://localhost:8080/",
          "height": 281
        },
        "outputId": "b2fc0754-844f-43f2-93cc-3e0a50991962"
      },
      "execution_count": 243,
      "outputs": [
        {
          "output_type": "display_data",
          "data": {
            "text/plain": [
              "<Figure size 432x288 with 1 Axes>"
            ],
            "image/png": "[encoded data removed]"
          },
          "metadata": {
            "needs_background": "light"
          }
        }
      ]
    },
    {
      "cell_type": "code",
      "source": [
        "from sklearn.metrics import classification_report, confusion_matrix\n",
        "print(confusion_matrix(testLabels, modelResults_gbc))\n",
        "print(classification_report(testLabels, modelResults_gbc))\n",
        "accuracy = accuracy_score(testLabels, modelResults_gbc) \n",
        "print(\"Accuracy: {:.2f}\".format(accuracy))\n",
        "print(\"Cohen's Kappa: {:.2f}\".format(cohen_kappa_score(testLabels, modelResults_gbc)))"
      ],
      "metadata": {
        "id": "XVmaaKnNyWlW",
        "colab": {
          "base_uri": "https://localhost:8080/"
        },
        "outputId": "5da51077-ffd8-4671-a38a-88906c0814b7"
      },
      "execution_count": 244,
      "outputs": [
        {
          "output_type": "stream",
          "name": "stdout",
          "text": [
            "[[87  4]\n",
            " [12 81]]\n",
            "              precision    recall  f1-score   support\n",
            "\n",
            "    approval       0.88      0.96      0.92        91\n",
            " prohibition       0.95      0.87      0.91        93\n",
            "\n",
            "    accuracy                           0.91       184\n",
            "   macro avg       0.92      0.91      0.91       184\n",
            "weighted avg       0.92      0.91      0.91       184\n",
            "\n",
            "Accuracy: 0.91\n",
            "Cohen's Kappa: 0.83\n"
          ]
        }
      ]
    },
    {
      "cell_type": "markdown",
      "source": [
        "### Check functionals for both voiced (i.e. $f_0 = 0$) and unvoiced segments. Which segments are suited for the approach ?\n",
        "\n",
        "Before removing the unvoiced segment both to the frequency and energy feature the result was the following one. The accuracy was $15 \\;\\%$ lower and the Cohen's Kappa $34\\;\\%$.\n",
        "\n",
        "![image.png](data:image/png;base64,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)\n"
      ],
      "metadata": {
        "id": "_yf71--1JPao"
      }
    },
    {
      "cell_type": "markdown",
      "source": [],
      "metadata": {
        "id": "cGl036aIKdwJ"
      }
    }
  ]
}