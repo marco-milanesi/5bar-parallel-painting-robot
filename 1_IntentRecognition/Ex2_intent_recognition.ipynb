{
  "nbformat": 4,
  "nbformat_minor": 0,
  "metadata": {
    "colab": {
      "provenance": [],
      "collapsed_sections": [],
      "include_colab_link": true
    },
    "kernelspec": {
      "name": "python3",
      "display_name": "Python 3"
    },
    "language_info": {
      "name": "python"
    }
  },
  "cells": [
    {
      "cell_type": "markdown",
      "metadata": {
        "id": "view-in-github",
        "colab_type": "text"
      },
      "source": [
        "<a href=\"https://colab.research.google.com/github/marco-milanesi/5bar-parallel-painting-robot/blob/main/1_IntentRecognition/Ex2_intent_recognition.ipynb\" target=\"_parent\"><img src=\"https://colab.research.google.com/assets/colab-badge.svg\" alt=\"Open In Colab\"/></a>"
      ]
    },
    {
      "cell_type": "markdown",
      "source": [
        "# Detection of multiple intents"
      ],
      "metadata": {
        "id": "IHhpb5WAndOT"
      }
    },
    {
      "cell_type": "code",
      "execution_count": 2,
      "metadata": {
        "id": "QAjoCHIUpaAP",
        "colab": {
          "base_uri": "https://localhost:8080/"
        },
        "outputId": "faeaa900-74da-4d67-f401-c77908214a18"
      },
      "outputs": [
        {
          "output_type": "stream",
          "name": "stdout",
          "text": [
            "Mounted at /content/gdrive\n"
          ]
        }
      ],
      "source": [
        "from google.colab import drive\n",
        "drive.mount('/content/gdrive') # Run it if the drive hasn't already mounted"
      ]
    },
    {
      "cell_type": "markdown",
      "source": [
        "## Import packages"
      ],
      "metadata": {
        "id": "e6DNg384nssw"
      }
    },
    {
      "cell_type": "code",
      "source": [
        "import os\n",
        "import pandas as pd\n",
        "import numpy as np\n",
        "import statistics \n",
        "import glob\n",
        "from numpy import mean, absolute\n",
        "from natsort import natsorted\n",
        "\n",
        "\n",
        "path = \"/content/gdrive/MyDrive/Colab Notebooks/Social Robot/1_IntentRecognition/Kismet_data_intent/\"\n",
        "os.chdir(path)\n",
        "extension_energy='en' #file extension of Energy features\n",
        "\n",
        "energy_files=[i for i in glob.glob(f'*.{extension_energy}')]\n",
        "energy_files=natsorted(energy_files) # sort based on file number\n",
        "\n",
        "extension_frequency='f0' #file extension of Frequency features\n",
        "frequency_files=[i for i in glob.glob(f'*.{extension_frequency}')]\n",
        "frequency_files=natsorted(frequency_files) # sort based on file number\n",
        "\n",
        "file_list=[]\n",
        "# Definition of the five classes of affective communicative intents strings\n",
        "substring_approval=\"ap\" \n",
        "substring_prohibition=\"pw\"\n",
        "substring_attention=\"at\"\n",
        "# list of the class (labels)\n",
        "classification=[] \n",
        "  "
      ],
      "metadata": {
        "id": "DK8br2ltzrv1"
      },
      "execution_count": 3,
      "outputs": []
    },
    {
      "cell_type": "markdown",
      "source": [
        "## Load Data for frequency"
      ],
      "metadata": {
        "id": "JX1fM2kMatgY"
      }
    },
    {
      "cell_type": "code",
      "source": [
        "mean_frequency=[]\n",
        "maximum_frequency=[]\n",
        "range_frequency=[]\n",
        "variance_frequency = []\n",
        "median_frequency = []\n",
        "Firstquartile_frequency = []\n",
        "Thirdquartile_frequency = []\n",
        "AbsoluteMeanDeviation_frequency = []\n",
        "file_index_list = []\n",
        "index_list = []\n",
        "index = -1\n",
        "classification = [] # Reintialization of the classification list\n",
        "file_list=[]\n",
        "time = []\n",
        "mean_absolute_local_derivative_frequency = []\n",
        "\n",
        "for i in frequency_files:\n",
        "  if substring_approval in i:\n",
        "    classification.append(\"approval\")\n",
        "  elif substring_prohibition in i:\n",
        "    classification.append(\"prohibition\")\n",
        "  elif substring_attention in i:\n",
        "    classification.append(\"attention\")\n",
        "    \n",
        "  with open(i) as f:\n",
        "    for line in f:\n",
        "      index = index + 1 # line number\n",
        "      num=float(line.split(\" \")[1]) # Extract the frequency part\n",
        "      t=float(line.split(\" \")[0]) # Extract the time part\n",
        "      if num != 0:\n",
        "        file_list.append(num)\n",
        "        time.append(t)\n",
        "        file_index_list.append(index)\n",
        "    \n",
        "  index_list.append(file_index_list) # Create the list of list indexes\n",
        "  file_index_list = []\n",
        "  index = -1\n",
        "  mean_frequency.append(np.mean(file_list))\n",
        "  maximum_frequency.append(max(file_list))\n",
        "  range_frequency.append(max(file_list)-min(file_list))\n",
        "  variance_frequency.append(statistics.variance(file_list))\n",
        "  median_frequency.append(statistics.median(file_list))\n",
        "  Firstquartile_frequency.append(np.quantile(file_list,q=0.25))\n",
        "  Thirdquartile_frequency.append(np.quantile(file_list,q=0.75))\n",
        "  AbsoluteMeanDeviation_frequency.append(mean(absolute(file_list - mean(file_list))))\n",
        "  mean_absolute_local_derivative_frequency.append(np.mean(abs(np.diff(file_list)/np.diff(time))))\n",
        "  file_list=[]\n",
        "  time=[]"
      ],
      "metadata": {
        "id": "myEunpdEas_P"
      },
      "execution_count": 4,
      "outputs": []
    },
    {
      "cell_type": "markdown",
      "source": [
        "## Load Data for energy\n"
      ],
      "metadata": {
        "id": "guJOKOB6YPWe"
      }
    },
    {
      "cell_type": "code",
      "source": [
        "from numpy.core.fromnumeric import size\n",
        "mean_energy=[]\n",
        "maximum_energy=[]\n",
        "range_energy=[]\n",
        "variance_energy = []\n",
        "median_energy = []\n",
        "Firstquartile_energy = []\n",
        "Thirdquartile_energy = []\n",
        "AbsoluteMeanDeviation_energy = []\n",
        "mean_absolute_local_derivative_energy = []\n",
        "file_index = -1\n",
        "index = -1\n",
        "\n",
        "for i in energy_files: \n",
        "  index = index + 1\n",
        "  with open(i) as f:\n",
        "    for line in f:\n",
        "      file_index = file_index + 1 # line number\n",
        "      if file_index in index_list[index]: # Unvoiced segments taken from Frequency data\n",
        "        num=float(line.split(\" \")[1]) # Extract the frequency part\n",
        "        t=float(line.split(\" \")[0]) # Extract the time part\n",
        "        file_list.append(num)\n",
        "        time.append(t)\n",
        "  file_index = -1\n",
        "  \n",
        "  mean_energy.append(np.mean(file_list))\n",
        "  maximum_energy.append(max(file_list))\n",
        "  range_energy.append(max(file_list)-min(file_list))\n",
        "  if size(file_list) > 1:\n",
        "    variance_energy.append(statistics.variance(file_list))\n",
        "  else:\n",
        "    variance_energy.append(0)\n",
        "  median_energy.append(statistics.median(file_list))\n",
        "  Firstquartile_energy.append(np.quantile(file_list,q=0.25))\n",
        "  Thirdquartile_energy.append(np.quantile(file_list,q=0.75))\n",
        "  AbsoluteMeanDeviation_energy.append(mean(absolute(file_list - mean(file_list))))\n",
        "  mean_absolute_local_derivative_energy.append(np.mean(abs(np.diff(file_list)/np.diff(time))))\n",
        "  time=[]\n",
        "  file_list=[]"
      ],
      "metadata": {
        "id": "-dpDyC9LYToj"
      },
      "execution_count": 5,
      "outputs": []
    },
    {
      "cell_type": "markdown",
      "source": [
        "# Create the dataset"
      ],
      "metadata": {
        "id": "OuqvVSscYVZG"
      }
    },
    {
      "cell_type": "code",
      "source": [
        "df=pd.DataFrame()\n",
        "# Labels\n",
        "df=pd.DataFrame(classification,columns=['label'])\n",
        "# Energy Features\n",
        "df.insert(1,\"mean energy\",mean_energy,True)\n",
        "df.insert(2,\"maximum energy\",maximum_energy,True)\n",
        "df.insert(3,\"range energy\",range_energy,True)\n",
        "df.insert(4,\"variance energy\",variance_energy,True)\n",
        "df.insert(5,\"median energy\",median_energy,True)\n",
        "df.insert(6,\"First Quartile\",Firstquartile_energy,True)\n",
        "df.insert(7,\"Third Quartile\",Thirdquartile_energy,True)\n",
        "df.insert(8,\"Absolute Mean Deviation\",AbsoluteMeanDeviation_energy,True)\n",
        "df.insert(9,\"Absolute Local Derivative\",mean_absolute_local_derivative_energy,True)\n",
        "# Frequency Features\n",
        "df.insert(10,\"mean frequency\",mean_frequency,True)\n",
        "df.insert(11,\"maximum frequency\",maximum_frequency,True)\n",
        "df.insert(12,\"range frequency\",range_frequency,True)\n",
        "df.insert(13,\"variance frequency\",variance_frequency,True)\n",
        "df.insert(14,\"median frequency\",median_frequency,True)\n",
        "df.insert(15,\"First Quartile\",Firstquartile_frequency,True)\n",
        "df.insert(16,\"Third Quartile\",Thirdquartile_frequency,True)\n",
        "df.insert(17,\"Absolute Mean Deviation\",AbsoluteMeanDeviation_frequency,True)\n",
        "df.insert(18,\"Absolute Local Derivative\",mean_absolute_local_derivative_frequency,True)\n",
        "# Print the dataset created\n",
        "df"
      ],
      "metadata": {
        "id": "CrFDauQwYYWt",
        "colab": {
          "base_uri": "https://localhost:8080/",
          "height": 522
        },
        "outputId": "c274e0cf-956b-4e9d-8e81-af8781cd0c52"
      },
      "execution_count": 6,
      "outputs": [
        {
          "output_type": "execute_result",
          "data": {
            "text/plain": [
              "           label  mean energy  maximum energy  range energy  variance energy  \\\n",
              "0      attention    68.800000            73.0          22.0        26.589474   \n",
              "1      attention    67.518519            76.0          19.0        28.259259   \n",
              "2      attention    68.800000            73.0          22.0        26.589474   \n",
              "3      attention    67.518519            76.0          19.0        28.259259   \n",
              "4    prohibition    65.914894            71.0          16.0        17.775208   \n",
              "..           ...          ...             ...           ...              ...   \n",
              "534    attention    70.481481            80.0          26.0        36.216632   \n",
              "535    attention    75.305556            85.0          27.0        43.418254   \n",
              "536    attention    75.914286            86.0          23.0        29.021849   \n",
              "537    attention    76.621622            83.0          22.0        27.575075   \n",
              "538    attention    74.190476            80.0          18.0        27.461905   \n",
              "\n",
              "     median energy  First Quartile  Third Quartile  Absolute Mean Deviation  \\\n",
              "0             71.0           67.75           72.00                 3.480000   \n",
              "1             69.0           65.50           71.00                 4.310014   \n",
              "2             71.0           67.75           72.00                 3.480000   \n",
              "3             69.0           65.50           71.00                 4.310014   \n",
              "4             66.0           63.50           70.00                 3.459484   \n",
              "..             ...             ...             ...                      ...   \n",
              "534           70.5           67.00           75.75                 4.814815   \n",
              "535           77.0           72.75           80.00                 5.049383   \n",
              "536           76.0           73.00           79.50                 4.269388   \n",
              "537           78.0           75.00           81.00                 4.004383   \n",
              "538           75.0           71.00           78.00                 4.163265   \n",
              "\n",
              "     Absolute Local Derivative  mean frequency  maximum frequency  \\\n",
              "0                   107.368421      353.950000              402.0   \n",
              "1                   183.653846      348.222222              430.0   \n",
              "2                   107.368421      353.950000              402.0   \n",
              "3                   183.653846      348.222222              430.0   \n",
              "4                    74.409938      200.276596              257.0   \n",
              "..                         ...             ...                ...   \n",
              "534                 129.935678      358.333333              457.0   \n",
              "535                 115.714286      375.944444              484.0   \n",
              "536                 120.840336      375.600000              477.0   \n",
              "537                 110.745614      384.054054              494.0   \n",
              "538                 148.333333      370.952381              427.0   \n",
              "\n",
              "     range frequency  variance frequency  median frequency  First Quartile  \\\n",
              "0               83.0          877.102632             333.0          331.75   \n",
              "1              197.0         4030.641026             369.0          298.50   \n",
              "2               83.0          877.102632             333.0          331.75   \n",
              "3              197.0         4030.641026             369.0          298.50   \n",
              "4               90.0          675.987049             191.0          182.50   \n",
              "..               ...                 ...               ...             ...   \n",
              "534            225.0         4541.056604             378.5          309.50   \n",
              "535            233.0         3755.253968             375.0          372.75   \n",
              "536            213.0         3390.364706             379.0          338.50   \n",
              "537            281.0         6267.552553             405.0          332.00   \n",
              "538            156.0         1946.747619             376.0          351.00   \n",
              "\n",
              "     Third Quartile  Absolute Mean Deviation  Absolute Local Derivative  \n",
              "0            379.25                27.140000                 239.473684  \n",
              "1            398.00                54.370370                 471.634615  \n",
              "2            379.25                27.140000                 239.473684  \n",
              "3            398.00                54.370370                 471.634615  \n",
              "4            213.00                21.076505                 273.726708  \n",
              "..              ...                      ...                        ...  \n",
              "534          408.00                56.864198                 755.377358  \n",
              "535          397.00                41.274691                 550.000000  \n",
              "536          417.50                47.268571                 663.949580  \n",
              "537          439.00                64.635500                 955.720029  \n",
              "538          404.00                34.344671                 820.625000  \n",
              "\n",
              "[539 rows x 19 columns]"
            ],
            "text/html": [
              "\n",
              "  <div id=\"df-3d244b8d-a179-4e2c-aa77-a7ad5c4dba49\">\n",
              "    <div class=\"colab-df-container\">\n",
              "      <div>\n",
              "<style scoped>\n",
              "    .dataframe tbody tr th:only-of-type {\n",
              "        vertical-align: middle;\n",
              "    }\n",
              "\n",
              "    .dataframe tbody tr th {\n",
              "        vertical-align: top;\n",
              "    }\n",
              "\n",
              "    .dataframe thead th {\n",
              "        text-align: right;\n",
              "    }\n",
              "</style>\n",
              "<table border=\"1\" class=\"dataframe\">\n",
              "  <thead>\n",
              "    <tr style=\"text-align: right;\">\n",
              "      <th></th>\n",
              "      <th>label</th>\n",
              "      <th>mean energy</th>\n",
              "      <th>maximum energy</th>\n",
              "      <th>range energy</th>\n",
              "      <th>variance energy</th>\n",
              "      <th>median energy</th>\n",
              "      <th>First Quartile</th>\n",
              "      <th>Third Quartile</th>\n",
              "      <th>Absolute Mean Deviation</th>\n",
              "      <th>Absolute Local Derivative</th>\n",
              "      <th>mean frequency</th>\n",
              "      <th>maximum frequency</th>\n",
              "      <th>range frequency</th>\n",
              "      <th>variance frequency</th>\n",
              "      <th>median frequency</th>\n",
              "      <th>First Quartile</th>\n",
              "      <th>Third Quartile</th>\n",
              "      <th>Absolute Mean Deviation</th>\n",
              "      <th>Absolute Local Derivative</th>\n",
              "    </tr>\n",
              "  </thead>\n",
              "  <tbody>\n",
              "    <tr>\n",
              "      <th>0</th>\n",
              "      <td>attention</td>\n",
              "      <td>68.800000</td>\n",
              "      <td>73.0</td>\n",
              "      <td>22.0</td>\n",
              "      <td>26.589474</td>\n",
              "      <td>71.0</td>\n",
              "      <td>67.75</td>\n",
              "      <td>72.00</td>\n",
              "      <td>3.480000</td>\n",
              "      <td>107.368421</td>\n",
              "      <td>353.950000</td>\n",
              "      <td>402.0</td>\n",
              "      <td>83.0</td>\n",
              "      <td>877.102632</td>\n",
              "      <td>333.0</td>\n",
              "      <td>331.75</td>\n",
              "      <td>379.25</td>\n",
              "      <td>27.140000</td>\n",
              "      <td>239.473684</td>\n",
              "    </tr>\n",
              "    <tr>\n",
              "      <th>1</th>\n",
              "      <td>attention</td>\n",
              "      <td>67.518519</td>\n",
              "      <td>76.0</td>\n",
              "      <td>19.0</td>\n",
              "      <td>28.259259</td>\n",
              "      <td>69.0</td>\n",
              "      <td>65.50</td>\n",
              "      <td>71.00</td>\n",
              "      <td>4.310014</td>\n",
              "      <td>183.653846</td>\n",
              "      <td>348.222222</td>\n",
              "      <td>430.0</td>\n",
              "      <td>197.0</td>\n",
              "      <td>4030.641026</td>\n",
              "      <td>369.0</td>\n",
              "      <td>298.50</td>\n",
              "      <td>398.00</td>\n",
              "      <td>54.370370</td>\n",
              "      <td>471.634615</td>\n",
              "    </tr>\n",
              "    <tr>\n",
              "      <th>2</th>\n",
              "      <td>attention</td>\n",
              "      <td>68.800000</td>\n",
              "      <td>73.0</td>\n",
              "      <td>22.0</td>\n",
              "      <td>26.589474</td>\n",
              "      <td>71.0</td>\n",
              "      <td>67.75</td>\n",
              "      <td>72.00</td>\n",
              "      <td>3.480000</td>\n",
              "      <td>107.368421</td>\n",
              "      <td>353.950000</td>\n",
              "      <td>402.0</td>\n",
              "      <td>83.0</td>\n",
              "      <td>877.102632</td>\n",
              "      <td>333.0</td>\n",
              "      <td>331.75</td>\n",
              "      <td>379.25</td>\n",
              "      <td>27.140000</td>\n",
              "      <td>239.473684</td>\n",
              "    </tr>\n",
              "    <tr>\n",
              "      <th>3</th>\n",
              "      <td>attention</td>\n",
              "      <td>67.518519</td>\n",
              "      <td>76.0</td>\n",
              "      <td>19.0</td>\n",
              "      <td>28.259259</td>\n",
              "      <td>69.0</td>\n",
              "      <td>65.50</td>\n",
              "      <td>71.00</td>\n",
              "      <td>4.310014</td>\n",
              "      <td>183.653846</td>\n",
              "      <td>348.222222</td>\n",
              "      <td>430.0</td>\n",
              "      <td>197.0</td>\n",
              "      <td>4030.641026</td>\n",
              "      <td>369.0</td>\n",
              "      <td>298.50</td>\n",
              "      <td>398.00</td>\n",
              "      <td>54.370370</td>\n",
              "      <td>471.634615</td>\n",
              "    </tr>\n",
              "    <tr>\n",
              "      <th>4</th>\n",
              "      <td>prohibition</td>\n",
              "      <td>65.914894</td>\n",
              "      <td>71.0</td>\n",
              "      <td>16.0</td>\n",
              "      <td>17.775208</td>\n",
              "      <td>66.0</td>\n",
              "      <td>63.50</td>\n",
              "      <td>70.00</td>\n",
              "      <td>3.459484</td>\n",
              "      <td>74.409938</td>\n",
              "      <td>200.276596</td>\n",
              "      <td>257.0</td>\n",
              "      <td>90.0</td>\n",
              "      <td>675.987049</td>\n",
              "      <td>191.0</td>\n",
              "      <td>182.50</td>\n",
              "      <td>213.00</td>\n",
              "      <td>21.076505</td>\n",
              "      <td>273.726708</td>\n",
              "    </tr>\n",
              "    <tr>\n",
              "      <th>...</th>\n",
              "      <td>...</td>\n",
              "      <td>...</td>\n",
              "      <td>...</td>\n",
              "      <td>...</td>\n",
              "      <td>...</td>\n",
              "      <td>...</td>\n",
              "      <td>...</td>\n",
              "      <td>...</td>\n",
              "      <td>...</td>\n",
              "      <td>...</td>\n",
              "      <td>...</td>\n",
              "      <td>...</td>\n",
              "      <td>...</td>\n",
              "      <td>...</td>\n",
              "      <td>...</td>\n",
              "      <td>...</td>\n",
              "      <td>...</td>\n",
              "      <td>...</td>\n",
              "      <td>...</td>\n",
              "    </tr>\n",
              "    <tr>\n",
              "      <th>534</th>\n",
              "      <td>attention</td>\n",
              "      <td>70.481481</td>\n",
              "      <td>80.0</td>\n",
              "      <td>26.0</td>\n",
              "      <td>36.216632</td>\n",
              "      <td>70.5</td>\n",
              "      <td>67.00</td>\n",
              "      <td>75.75</td>\n",
              "      <td>4.814815</td>\n",
              "      <td>129.935678</td>\n",
              "      <td>358.333333</td>\n",
              "      <td>457.0</td>\n",
              "      <td>225.0</td>\n",
              "      <td>4541.056604</td>\n",
              "      <td>378.5</td>\n",
              "      <td>309.50</td>\n",
              "      <td>408.00</td>\n",
              "      <td>56.864198</td>\n",
              "      <td>755.377358</td>\n",
              "    </tr>\n",
              "    <tr>\n",
              "      <th>535</th>\n",
              "      <td>attention</td>\n",
              "      <td>75.305556</td>\n",
              "      <td>85.0</td>\n",
              "      <td>27.0</td>\n",
              "      <td>43.418254</td>\n",
              "      <td>77.0</td>\n",
              "      <td>72.75</td>\n",
              "      <td>80.00</td>\n",
              "      <td>5.049383</td>\n",
              "      <td>115.714286</td>\n",
              "      <td>375.944444</td>\n",
              "      <td>484.0</td>\n",
              "      <td>233.0</td>\n",
              "      <td>3755.253968</td>\n",
              "      <td>375.0</td>\n",
              "      <td>372.75</td>\n",
              "      <td>397.00</td>\n",
              "      <td>41.274691</td>\n",
              "      <td>550.000000</td>\n",
              "    </tr>\n",
              "    <tr>\n",
              "      <th>536</th>\n",
              "      <td>attention</td>\n",
              "      <td>75.914286</td>\n",
              "      <td>86.0</td>\n",
              "      <td>23.0</td>\n",
              "      <td>29.021849</td>\n",
              "      <td>76.0</td>\n",
              "      <td>73.00</td>\n",
              "      <td>79.50</td>\n",
              "      <td>4.269388</td>\n",
              "      <td>120.840336</td>\n",
              "      <td>375.600000</td>\n",
              "      <td>477.0</td>\n",
              "      <td>213.0</td>\n",
              "      <td>3390.364706</td>\n",
              "      <td>379.0</td>\n",
              "      <td>338.50</td>\n",
              "      <td>417.50</td>\n",
              "      <td>47.268571</td>\n",
              "      <td>663.949580</td>\n",
              "    </tr>\n",
              "    <tr>\n",
              "      <th>537</th>\n",
              "      <td>attention</td>\n",
              "      <td>76.621622</td>\n",
              "      <td>83.0</td>\n",
              "      <td>22.0</td>\n",
              "      <td>27.575075</td>\n",
              "      <td>78.0</td>\n",
              "      <td>75.00</td>\n",
              "      <td>81.00</td>\n",
              "      <td>4.004383</td>\n",
              "      <td>110.745614</td>\n",
              "      <td>384.054054</td>\n",
              "      <td>494.0</td>\n",
              "      <td>281.0</td>\n",
              "      <td>6267.552553</td>\n",
              "      <td>405.0</td>\n",
              "      <td>332.00</td>\n",
              "      <td>439.00</td>\n",
              "      <td>64.635500</td>\n",
              "      <td>955.720029</td>\n",
              "    </tr>\n",
              "    <tr>\n",
              "      <th>538</th>\n",
              "      <td>attention</td>\n",
              "      <td>74.190476</td>\n",
              "      <td>80.0</td>\n",
              "      <td>18.0</td>\n",
              "      <td>27.461905</td>\n",
              "      <td>75.0</td>\n",
              "      <td>71.00</td>\n",
              "      <td>78.00</td>\n",
              "      <td>4.163265</td>\n",
              "      <td>148.333333</td>\n",
              "      <td>370.952381</td>\n",
              "      <td>427.0</td>\n",
              "      <td>156.0</td>\n",
              "      <td>1946.747619</td>\n",
              "      <td>376.0</td>\n",
              "      <td>351.00</td>\n",
              "      <td>404.00</td>\n",
              "      <td>34.344671</td>\n",
              "      <td>820.625000</td>\n",
              "    </tr>\n",
              "  </tbody>\n",
              "</table>\n",
              "<p>539 rows × 19 columns</p>\n",
              "</div>\n",
              "      <button class=\"colab-df-convert\" onclick=\"convertToInteractive('df-3d244b8d-a179-4e2c-aa77-a7ad5c4dba49')\"\n",
              "              title=\"Convert this dataframe to an interactive table.\"\n",
              "              style=\"display:none;\">\n",
              "        \n",
              "  <svg xmlns=\"http://www.w3.org/2000/svg\" height=\"24px\"viewBox=\"0 0 24 24\"\n",
              "       width=\"24px\">\n",
              "    <path d=\"M0 0h24v24H0V0z\" fill=\"none\"/>\n",
              "    <path d=\"M18.56 5.44l.94 2.06.94-2.06 2.06-.94-2.06-.94-.94-2.06-.94 2.06-2.06.94zm-11 1L8.5 8.5l.94-2.06 2.06-.94-2.06-.94L8.5 2.5l-.94 2.06-2.06.94zm10 10l.94 2.06.94-2.06 2.06-.94-2.06-.94-.94-2.06-.94 2.06-2.06.94z\"/><path d=\"M17.41 7.96l-1.37-1.37c-.4-.4-.92-.59-1.43-.59-.52 0-1.04.2-1.43.59L10.3 9.45l-7.72 7.72c-.78.78-.78 2.05 0 2.83L4 21.41c.39.39.9.59 1.41.59.51 0 1.02-.2 1.41-.59l7.78-7.78 2.81-2.81c.8-.78.8-2.07 0-2.86zM5.41 20L4 18.59l7.72-7.72 1.47 1.35L5.41 20z\"/>\n",
              "  </svg>\n",
              "      </button>\n",
              "      \n",
              "  <style>\n",
              "    .colab-df-container {\n",
              "      display:flex;\n",
              "      flex-wrap:wrap;\n",
              "      gap: 12px;\n",
              "    }\n",
              "\n",
              "    .colab-df-convert {\n",
              "      background-color: #E8F0FE;\n",
              "      border: none;\n",
              "      border-radius: 50%;\n",
              "      cursor: pointer;\n",
              "      display: none;\n",
              "      fill: #1967D2;\n",
              "      height: 32px;\n",
              "      padding: 0 0 0 0;\n",
              "      width: 32px;\n",
              "    }\n",
              "\n",
              "    .colab-df-convert:hover {\n",
              "      background-color: #E2EBFA;\n",
              "      box-shadow: 0px 1px 2px rgba(60, 64, 67, 0.3), 0px 1px 3px 1px rgba(60, 64, 67, 0.15);\n",
              "      fill: #174EA6;\n",
              "    }\n",
              "\n",
              "    [theme=dark] .colab-df-convert {\n",
              "      background-color: #3B4455;\n",
              "      fill: #D2E3FC;\n",
              "    }\n",
              "\n",
              "    [theme=dark] .colab-df-convert:hover {\n",
              "      background-color: #434B5C;\n",
              "      box-shadow: 0px 1px 3px 1px rgba(0, 0, 0, 0.15);\n",
              "      filter: drop-shadow(0px 1px 2px rgba(0, 0, 0, 0.3));\n",
              "      fill: #FFFFFF;\n",
              "    }\n",
              "  </style>\n",
              "\n",
              "      <script>\n",
              "        const buttonEl =\n",
              "          document.querySelector('#df-3d244b8d-a179-4e2c-aa77-a7ad5c4dba49 button.colab-df-convert');\n",
              "        buttonEl.style.display =\n",
              "          google.colab.kernel.accessAllowed ? 'block' : 'none';\n",
              "\n",
              "        async function convertToInteractive(key) {\n",
              "          const element = document.querySelector('#df-3d244b8d-a179-4e2c-aa77-a7ad5c4dba49');\n",
              "          const dataTable =\n",
              "            await google.colab.kernel.invokeFunction('convertToInteractive',\n",
              "                                                     [key], {});\n",
              "          if (!dataTable) return;\n",
              "\n",
              "          const docLinkHtml = 'Like what you see? Visit the ' +\n",
              "            '<a target=\"_blank\" href=https://colab.research.google.com/notebooks/data_table.ipynb>data table notebook</a>'\n",
              "            + ' to learn more about interactive tables.';\n",
              "          element.innerHTML = '';\n",
              "          dataTable['output_type'] = 'display_data';\n",
              "          await google.colab.output.renderOutput(dataTable, element);\n",
              "          const docLink = document.createElement('div');\n",
              "          docLink.innerHTML = docLinkHtml;\n",
              "          element.appendChild(docLink);\n",
              "        }\n",
              "      </script>\n",
              "    </div>\n",
              "  </div>\n",
              "  "
            ]
          },
          "metadata": {},
          "execution_count": 6
        }
      ]
    },
    {
      "cell_type": "code",
      "source": [
        "labels = df.values[:,0]\n",
        "samples = df.values[:,1:]"
      ],
      "metadata": {
        "id": "uL-Ao31UTWH7"
      },
      "execution_count": 7,
      "outputs": []
    },
    {
      "cell_type": "markdown",
      "source": [
        "## Train test and split"
      ],
      "metadata": {
        "id": "hvA5z-j5Tf8U"
      }
    },
    {
      "cell_type": "code",
      "source": [
        "import sklearn\n",
        "from sklearn.neighbors import KNeighborsClassifier\n",
        "\n",
        "from collections import Counter\n",
        "print(\"Labels distribution:\",Counter(labels))\n",
        "\n",
        "# train-test split\n",
        "trainSamples, testSamples, trainLabels, testLabels = sklearn.model_selection.train_test_split(samples, labels, random_state=10,stratify=labels,train_size=0.6)\n",
        "print(\"Train labels distribution:\", Counter(trainLabels))\n",
        "print(\"Test labels distribution:\",Counter(testLabels))"
      ],
      "metadata": {
        "id": "DsC7Wn9JTin2",
        "colab": {
          "base_uri": "https://localhost:8080/"
        },
        "outputId": "5f3bf22e-7992-4636-bcf6-635a32b20775"
      },
      "execution_count": 8,
      "outputs": [
        {
          "output_type": "stream",
          "name": "stdout",
          "text": [
            "Labels distribution: Counter({'prohibition': 188, 'approval': 185, 'attention': 166})\n",
            "Train labels distribution: Counter({'prohibition': 113, 'approval': 111, 'attention': 99})\n",
            "Test labels distribution: Counter({'prohibition': 75, 'approval': 74, 'attention': 67})\n"
          ]
        }
      ]
    },
    {
      "cell_type": "markdown",
      "source": [
        "# KN Neighbors"
      ],
      "metadata": {
        "id": "7YklWGBrT8EV"
      }
    },
    {
      "cell_type": "code",
      "source": [
        "model_kn = KNeighborsClassifier() # Create the model\n",
        "model_kn.fit(trainSamples, trainLabels) #train the model\n",
        "from sklearn.metrics import  accuracy_score,cohen_kappa_score\n",
        "modelResults_kn = model_kn.predict(testSamples)"
      ],
      "metadata": {
        "id": "SzbvTjK3T-HU"
      },
      "execution_count": 9,
      "outputs": []
    },
    {
      "cell_type": "markdown",
      "source": [
        "## SVM"
      ],
      "metadata": {
        "id": "PuJn5vbzxCKn"
      }
    },
    {
      "cell_type": "code",
      "source": [
        "from sklearn import svm # Import Support Vector Machine Classifier\n",
        "model_svm = svm.SVC() # Create the model\n",
        "model_svm.fit(trainSamples, trainLabels) #train the model\n",
        "modelResults_svm = model_svm.predict(testSamples)"
      ],
      "metadata": {
        "id": "8a1erwDWWV6m"
      },
      "execution_count": 10,
      "outputs": []
    },
    {
      "cell_type": "markdown",
      "source": [
        "# Decision Tree Classifier"
      ],
      "metadata": {
        "id": "_mvytdgPxGiW"
      }
    },
    {
      "cell_type": "code",
      "source": [
        "from sklearn.tree import DecisionTreeClassifier # Import Decision Tree Classifier\n",
        "clf = DecisionTreeClassifier() # Create the model\n",
        "clf = clf.fit(trainSamples, trainLabels) #train the model\n",
        "modelResults_clf = clf.predict(testSamples)"
      ],
      "metadata": {
        "id": "NsxwU-XbxL_K"
      },
      "execution_count": 11,
      "outputs": []
    },
    {
      "cell_type": "markdown",
      "source": [
        "## Gradient Boosting Classifier"
      ],
      "metadata": {
        "id": "FIKoyalIx0C9"
      }
    },
    {
      "cell_type": "code",
      "source": [
        "from sklearn.ensemble import GradientBoostingClassifier # Import Gradient Boosting Classifier\n",
        "gb_clf2 = GradientBoostingClassifier(n_estimators=20, learning_rate=0.5, max_features=2, max_depth=2, random_state=0)\n",
        "gb_clf2.fit(trainSamples, trainLabels)\n",
        "modelResults_gbc = gb_clf2.predict(testSamples)"
      ],
      "metadata": {
        "id": "PsnLc7w2x5lr"
      },
      "execution_count": 12,
      "outputs": []
    },
    {
      "cell_type": "markdown",
      "source": [
        "## Models Evaluation"
      ],
      "metadata": {
        "id": "JRCnIAi1xo7I"
      }
    },
    {
      "cell_type": "code",
      "source": [
        "import matplotlib.pyplot as plt\n",
        "   \n",
        "data = {'Accuracy': [accuracy_score(testLabels, modelResults_kn) ,accuracy_score(testLabels, modelResults_svm) ,accuracy_score(testLabels, modelResults_clf) ,accuracy_score(testLabels, modelResults_gbc) ],\n",
        "        'Cohen s kappa': [cohen_kappa_score(testLabels, modelResults_kn),cohen_kappa_score(testLabels, modelResults_svm),cohen_kappa_score(testLabels, modelResults_clf),cohen_kappa_score(testLabels, modelResults_gbc)]\n",
        "       }\n",
        "df = pd.DataFrame(data,columns=['Accuracy','Cohen s kappa'], index = ['KN Neighbors','SVM','Decision Tree Classifier','Gradient Boosting Classifier'])\n",
        "df.plot.barh()\n",
        "plt.title('Algorithm Evaluation')\n",
        "plt.ylabel('Algorithm')\n",
        "plt.show()"
      ],
      "metadata": {
        "id": "73fOHqIAxvAy",
        "colab": {
          "base_uri": "https://localhost:8080/",
          "height": 281
        },
        "outputId": "30d75d59-67ff-48da-959f-781ef91dc3be"
      },
      "execution_count": 13,
      "outputs": [
        {
          "output_type": "display_data",
          "data": {
            "text/plain": [
              "<Figure size 432x288 with 1 Axes>"
            ],
            "image/png": "[encoded data removed]"
          },
          "metadata": {
            "needs_background": "light"
          }
        }
      ]
    },
    {
      "cell_type": "markdown",
      "source": [
        "## Measures calculation of the best model"
      ],
      "metadata": {
        "id": "oTni5jOwIRt8"
      }
    },
    {
      "cell_type": "code",
      "source": [
        "from sklearn.metrics import classification_report, confusion_matrix\n",
        "cf_matrix = confusion_matrix(testLabels, modelResults_gbc)\n",
        "print(classification_report(testLabels, modelResults_gbc))\n",
        "accuracy = accuracy_score(testLabels, modelResults_gbc) \n",
        "print(\"Accuracy: {:.2f}\".format(accuracy))\n",
        "print(\"Cohen's Kappa: {:.2f}\".format(cohen_kappa_score(testLabels, modelResults_gbc)))"
      ],
      "metadata": {
        "id": "XVmaaKnNyWlW",
        "colab": {
          "base_uri": "https://localhost:8080/"
        },
        "outputId": "449de469-2916-46a9-e0e2-61fccf7f82cb"
      },
      "execution_count": 49,
      "outputs": [
        {
          "output_type": "stream",
          "name": "stdout",
          "text": [
            "              precision    recall  f1-score   support\n",
            "\n",
            "    approval       0.73      0.81      0.77        74\n",
            "   attention       0.84      0.78      0.81        67\n",
            " prohibition       0.94      0.91      0.93        75\n",
            "\n",
            "    accuracy                           0.83       216\n",
            "   macro avg       0.84      0.83      0.83       216\n",
            "weighted avg       0.84      0.83      0.83       216\n",
            "\n",
            "Accuracy: 0.83\n",
            "Cohen's Kappa: 0.75\n"
          ]
        }
      ]
    },
    {
      "cell_type": "markdown",
      "source": [
        "## Print normalized confusion matrix"
      ],
      "metadata": {
        "id": "XSOIAWt5FtlQ"
      }
    },
    {
      "cell_type": "code",
      "source": [
        "import seaborn as sns\n",
        "import matplotlib.pyplot as plt\n",
        "from matplotlib.pyplot import figure\n",
        "\n",
        "group_counts = [\"{0:0.0f}\".format(value) for value in\n",
        "                cf_matrix.flatten()]\n",
        "\n",
        "group_percentages = [\"{0:.2%}\".format(value) for value in\n",
        "                     cf_matrix.flatten()/np.sum(cf_matrix)]\n",
        "\n",
        "labels = [f\"{v1}\\n{v2}\\n\" for v1, v2 in\n",
        "          zip(group_counts,group_percentages)]\n",
        "\n",
        "labels = np.asarray(labels).reshape(3,3)\n",
        "sns.set(font_scale=1.5) # Adjust to fit\n",
        "ax = sns.heatmap(cf_matrix, annot=labels, fmt='', cmap='Blues',)\n",
        "\n",
        "ax.set_title('Confusion Matrix\\n for classification of multiple intents');\n",
        "ax.set_xlabel('\\nPredicted Intent Category')\n",
        "ax.set_ylabel('Actual Intent Category ');\n",
        "\n",
        "## Ticket labels - List must be in alphabetical order\n",
        "ax.xaxis.set_ticklabels(['Approval','Attention', 'Prohibition'])\n",
        "ax.yaxis.set_ticklabels(['Approval','Attention', 'Prohibition'])\n",
        "\n",
        "plt.rcParams[\"figure.figsize\"] = (10,6)\n",
        "## Display the visualization of the Confusion Matrix.\n",
        "plt.show()"
      ],
      "metadata": {
        "colab": {
          "base_uri": "https://localhost:8080/",
          "height": 468
        },
        "id": "P5hps9DjsRJr",
        "outputId": "8b12cd8f-5033-4bbe-a427-f0c0c596b03d"
      },
      "execution_count": 48,
      "outputs": [
        {
          "output_type": "display_data",
          "data": {
            "text/plain": [
              "<Figure size 720x432 with 2 Axes>"
            ],
            "image/png": "[encoded data removed]"
          },
          "metadata": {}
        }
      ]
    }
  ]
}